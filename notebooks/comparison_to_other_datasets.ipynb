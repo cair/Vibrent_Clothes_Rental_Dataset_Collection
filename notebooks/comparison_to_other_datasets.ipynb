{
 "cells": [
  {
   "cell_type": "code",
   "execution_count": 1,
   "metadata": {},
   "outputs": [],
   "source": [
    "%load_ext autoreload\n",
    "%autoreload 2\n",
    "%reload_ext autoreload\n",
    "\n",
    "import os\n",
    "os.chdir(os.path.dirname(os.getcwd()))\n",
    "\n",
    "import pandas as pd\n",
    "from resources.constants import *\n",
    "\n",
    "def density_of_transactions(num_transactions, num_customers, num_articles):\n",
    "    return num_transactions / (num_customers * num_articles)\n",
    "\n",
    "HNM_DATASET_PATH = r\"resources\\other_datasets\\HnM_dataset\\transactions_train.csv\"\n",
    "NETFLIX_PRIZE_COMPETITION_PATH = r\"resources\\other_datasets\\Netflix_prize_competition\"\n",
    "RENT_THE_RUNWAY_DATASET_PATH = r\"resources\\other_datasets\\renttherunway_final_dataset\\renttherunway_final_data.json\""
   ]
  },
  {
   "cell_type": "code",
   "execution_count": 12,
   "metadata": {},
   "outputs": [
    {
     "data": {
      "text/html": [
       "<div>\n",
       "<style scoped>\n",
       "    .dataframe tbody tr th:only-of-type {\n",
       "        vertical-align: middle;\n",
       "    }\n",
       "\n",
       "    .dataframe tbody tr th {\n",
       "        vertical-align: top;\n",
       "    }\n",
       "\n",
       "    .dataframe thead th {\n",
       "        text-align: right;\n",
       "    }\n",
       "</style>\n",
       "<table border=\"1\" class=\"dataframe\">\n",
       "  <thead>\n",
       "    <tr style=\"text-align: right;\">\n",
       "      <th></th>\n",
       "      <th>fit</th>\n",
       "      <th>user_id</th>\n",
       "      <th>bust size</th>\n",
       "      <th>item_id</th>\n",
       "      <th>weight</th>\n",
       "      <th>rating</th>\n",
       "      <th>rented for</th>\n",
       "      <th>review_text</th>\n",
       "      <th>body type</th>\n",
       "      <th>review_summary</th>\n",
       "      <th>category</th>\n",
       "      <th>height</th>\n",
       "      <th>size</th>\n",
       "      <th>age</th>\n",
       "      <th>review_date</th>\n",
       "    </tr>\n",
       "  </thead>\n",
       "  <tbody>\n",
       "    <tr>\n",
       "      <th>0</th>\n",
       "      <td>fit</td>\n",
       "      <td>420272</td>\n",
       "      <td>34d</td>\n",
       "      <td>2260466</td>\n",
       "      <td>137lbs</td>\n",
       "      <td>10.0</td>\n",
       "      <td>vacation</td>\n",
       "      <td>An adorable romper! Belt and zipper were a lit...</td>\n",
       "      <td>hourglass</td>\n",
       "      <td>So many compliments!</td>\n",
       "      <td>romper</td>\n",
       "      <td>5' 8\"</td>\n",
       "      <td>14</td>\n",
       "      <td>28.0</td>\n",
       "      <td>April 20, 2016</td>\n",
       "    </tr>\n",
       "    <tr>\n",
       "      <th>1</th>\n",
       "      <td>fit</td>\n",
       "      <td>273551</td>\n",
       "      <td>34b</td>\n",
       "      <td>153475</td>\n",
       "      <td>132lbs</td>\n",
       "      <td>10.0</td>\n",
       "      <td>other</td>\n",
       "      <td>I rented this dress for a photo shoot. The the...</td>\n",
       "      <td>straight &amp; narrow</td>\n",
       "      <td>I felt so glamourous!!!</td>\n",
       "      <td>gown</td>\n",
       "      <td>5' 6\"</td>\n",
       "      <td>12</td>\n",
       "      <td>36.0</td>\n",
       "      <td>June 18, 2013</td>\n",
       "    </tr>\n",
       "  </tbody>\n",
       "</table>\n",
       "</div>"
      ],
      "text/plain": [
       "   fit  user_id bust size  item_id  weight  rating rented for  \\\n",
       "0  fit   420272       34d  2260466  137lbs    10.0   vacation   \n",
       "1  fit   273551       34b   153475  132lbs    10.0      other   \n",
       "\n",
       "                                         review_text          body type  \\\n",
       "0  An adorable romper! Belt and zipper were a lit...          hourglass   \n",
       "1  I rented this dress for a photo shoot. The the...  straight & narrow   \n",
       "\n",
       "            review_summary category height  size   age     review_date  \n",
       "0     So many compliments!   romper  5' 8\"    14  28.0  April 20, 2016  \n",
       "1  I felt so glamourous!!!     gown  5' 6\"    12  36.0   June 18, 2013  "
      ]
     },
     "execution_count": 12,
     "metadata": {},
     "output_type": "execute_result"
    }
   ],
   "source": [
    "rtr_df = pd.read_json(RENT_THE_RUNWAY_DATASET_PATH, lines=True)\n",
    "rtr_df.head(2)"
   ]
  },
  {
   "cell_type": "code",
   "execution_count": 11,
   "metadata": {},
   "outputs": [
    {
     "data": {
      "text/plain": [
       "count    105571.000000\n",
       "mean          1.823834\n",
       "std           3.074324\n",
       "min           1.000000\n",
       "25%           1.000000\n",
       "50%           1.000000\n",
       "60%           1.000000\n",
       "68%           1.000000\n",
       "70%           2.000000\n",
       "75%           2.000000\n",
       "90%           3.000000\n",
       "95%           5.000000\n",
       "99%          11.000000\n",
       "max         436.000000\n",
       "Name: count, dtype: float64"
      ]
     },
     "execution_count": 11,
     "metadata": {},
     "output_type": "execute_result"
    }
   ],
   "source": [
    "rtr_df[\"user_id\"].value_counts().describe(percentiles=[0.25, 0.5, 0.6, 0.68, 0.7, 0.75, 0.9, 0.95, 0.99])"
   ]
  },
  {
   "cell_type": "code",
   "execution_count": 15,
   "metadata": {},
   "outputs": [
    {
     "name": "stdout",
     "output_type": "stream",
     "text": [
      "5850 105571 192544\n",
      "Density of transactions: 3.12E-4, Number of users: 105571, Number of outfits: 5850, Number of orders: 192544\n"
     ]
    }
   ],
   "source": [
    "from decimal import Decimal\n",
    "\n",
    "num_articles = rtr_df[\"item_id\"].nunique()\n",
    "num_customers = rtr_df[\"user_id\"].nunique()\n",
    "num_transactions = rtr_df.shape[0]\n",
    "print(num_articles, num_customers, num_transactions)\n",
    "\n",
    "rtr_density = density_of_transactions(num_transactions, num_customers, num_articles)\n",
    "print(f\"Density of transactions: {Decimal(rtr_density):.2E}, Number of users: {Decimal(num_customers)}, Number of outfits: {Decimal(num_articles)}, Number of orders: {Decimal(num_transactions)}\")"
   ]
  },
  {
   "cell_type": "code",
   "execution_count": 69,
   "metadata": {},
   "outputs": [],
   "source": [
    "hnm_df = pd.read_csv(HNM_DATASET_PATH)"
   ]
  },
  {
   "cell_type": "code",
   "execution_count": 70,
   "metadata": {},
   "outputs": [],
   "source": [
    "hnm_df = hnm_df.drop_duplicates(subset=[\"article_id\", \"customer_id\"])"
   ]
  },
  {
   "cell_type": "code",
   "execution_count": 71,
   "metadata": {},
   "outputs": [
    {
     "name": "stdout",
     "output_type": "stream",
     "text": [
      "104547 1362281 27306439\n"
     ]
    },
    {
     "data": {
      "text/plain": [
       "0.00019172855246088317"
      ]
     },
     "execution_count": 71,
     "metadata": {},
     "output_type": "execute_result"
    }
   ],
   "source": [
    "num_articles = hnm_df[\"article_id\"].nunique()\n",
    "num_customers = hnm_df[\"customer_id\"].nunique()\n",
    "num_transactions = hnm_df.shape[0]\n",
    "print(num_articles, num_customers, num_transactions)\n",
    "\n",
    "hnm_density = density_of_transactions(num_transactions, num_customers, num_articles)\n",
    "hnm_density"
   ]
  },
  {
   "cell_type": "code",
   "execution_count": 2,
   "metadata": {},
   "outputs": [
    {
     "data": {
      "application/vnd.jupyter.widget-view+json": {
       "model_id": "106b20ba6364431c94a5ad1ac8a02779",
       "version_major": 2,
       "version_minor": 0
      },
      "text/plain": [
       "  0%|          | 0/3 [00:00<?, ?it/s]"
      ]
     },
     "metadata": {},
     "output_type": "display_data"
    }
   ],
   "source": [
    "from tqdm.notebook import tqdm\n",
    "\n",
    "#Netflix prize competition\n",
    "\n",
    "# data_paths = [os.path.join(NETFLIX_PRIZE_COMPETITION_PATH, file) for file in os.listdir(NETFLIX_PRIZE_COMPETITION_PATH)]\n",
    "# netflix_df = pd.read_csv(data_paths[0], header=None, names=[\"customer_id\", \"rating\", \"date\"])\n",
    "# for path in tqdm(data_paths[1:]):\n",
    "#     netflix_df = pd.concat([netflix_df, pd.read_csv(path, header=None, names=[\"customer_id\", \"rating\", \"date\"])])\n",
    "# tqdm.pandas()\n",
    "# current_movie_id = -1\n",
    "\n",
    "# def parse_dataset_movies(customer_id, rating, data):\n",
    "#     global current_movie_id\n",
    "\n",
    "#     if customer_id.endswith(\":\"):\n",
    "#         current_movie_id = int(customer_id[:-1])\n",
    "#         return None\n",
    "#     else:\n",
    "#         return current_movie_id\n",
    "\n",
    "# netflix_df[\"movie_id\"] = netflix_df.progress_apply(lambda row: parse_dataset_movies(row[\"customer_id\"], row[\"rating\"], row[\"date\"]), axis=1)\n",
    "# netflix_df.to_pickle(os.path.join(NETFLIX_PRIZE_COMPETITION_PATH, \"netflix_df.gz\"), compression=\"gzip\")"
   ]
  },
  {
   "cell_type": "code",
   "execution_count": 11,
   "metadata": {},
   "outputs": [],
   "source": [
    "netflix_df = pd.read_pickle(os.path.join(NETFLIX_PRIZE_COMPETITION_PATH, \"netflix_df.gz\"), compression=\"gzip\")\n",
    "netflix_df = netflix_df.dropna()"
   ]
  },
  {
   "cell_type": "code",
   "execution_count": 14,
   "metadata": {},
   "outputs": [
    {
     "data": {
      "text/plain": [
       "customer_id\n",
       "305344     17653\n",
       "387418     17436\n",
       "2439493    16565\n",
       "1664010    15813\n",
       "2118461    14831\n",
       "           ...  \n",
       "1839823        1\n",
       "2400165        1\n",
       "2404631        1\n",
       "454275         1\n",
       "1808649        1\n",
       "Name: count, Length: 480189, dtype: int64"
      ]
     },
     "execution_count": 14,
     "metadata": {},
     "output_type": "execute_result"
    }
   ],
   "source": [
    "netflix_value_counts = netflix_df[\"customer_id\"].value_counts()\n",
    "netflix_value_counts"
   ]
  },
  {
   "cell_type": "code",
   "execution_count": 15,
   "metadata": {},
   "outputs": [
    {
     "data": {
      "text/plain": [
       "count    480189.000000\n",
       "mean        209.251997\n",
       "std         302.339155\n",
       "min           1.000000\n",
       "25%          39.000000\n",
       "50%          96.000000\n",
       "75%         259.000000\n",
       "max       17653.000000\n",
       "Name: count, dtype: float64"
      ]
     },
     "execution_count": 15,
     "metadata": {},
     "output_type": "execute_result"
    }
   ],
   "source": [
    "netflix_value_counts.describe()"
   ]
  },
  {
   "cell_type": "code",
   "execution_count": 10,
   "metadata": {},
   "outputs": [
    {
     "data": {
      "text/plain": [
       "(17770, 480189, 100480507)"
      ]
     },
     "execution_count": 10,
     "metadata": {},
     "output_type": "execute_result"
    }
   ],
   "source": [
    "num_movies = netflix_df[\"movie_id\"].nunique()\n",
    "num_customers = netflix_df[\"customer_id\"].nunique()\n",
    "num_ratings = netflix_df.shape[0]\n",
    "num_movies, num_customers, num_ratings"
   ]
  },
  {
   "cell_type": "code",
   "execution_count": 15,
   "metadata": {},
   "outputs": [
    {
     "name": "stdout",
     "output_type": "stream",
     "text": [
      "Density of transactions: 1.18E-2, Number of movies: 17770, Number of customers: 480189, Number of ratings: 100480507\n"
     ]
    }
   ],
   "source": [
    "from decimal import Decimal\n",
    "netflix_density = density_of_transactions(num_ratings, num_customers, num_movies)\n",
    "print(f\"Density of transactions: {Decimal(netflix_density):.2E}, Number of movies: {Decimal(num_movies)}, Number of customers: {Decimal(num_customers)}, Number of ratings: {Decimal(num_ratings)}\")"
   ]
  },
  {
   "cell_type": "code",
   "execution_count": 29,
   "metadata": {},
   "outputs": [
    {
     "data": {
      "text/plain": [
       "0.01177557662406687"
      ]
     },
     "execution_count": 29,
     "metadata": {},
     "output_type": "execute_result"
    }
   ],
   "source": [
    "netflix_density"
   ]
  },
  {
   "cell_type": "code",
   "execution_count": 17,
   "metadata": {},
   "outputs": [],
   "source": [
    "\n",
    "triplets_df = pd.read_csv(USER_ACTIVITY_TRIPLETS_CSV_PATH, sep=CSV_SEPARATOR)\n",
    "outfits_df = pd.read_csv(OUTFITS_CSV_PATH, sep=CSV_SEPARATOR)\n",
    "\n",
    "# Append orders from before 2020 to the evaluated dataset\n",
    "original_orders_df = pd.read_csv(ORIGINAL_ORDERS_CSV_PATH, sep=CSV_SEPARATOR)\n",
    "triplets_df = pd.concat([triplets_df, original_orders_df], ignore_index=True)"
   ]
  },
  {
   "cell_type": "code",
   "execution_count": 18,
   "metadata": {},
   "outputs": [],
   "source": [
    "triplets_df = triplets_df.drop_duplicates(subset=[\"customer.id\", \"outfit.id\"]).copy()"
   ]
  },
  {
   "cell_type": "code",
   "execution_count": 19,
   "metadata": {},
   "outputs": [
    {
     "data": {
      "text/plain": [
       "(7416, 12193, 69509)"
      ]
     },
     "execution_count": 19,
     "metadata": {},
     "output_type": "execute_result"
    }
   ],
   "source": [
    "num_users = triplets_df[\"customer.id\"].nunique()\n",
    "num_outfits = triplets_df[\"outfit.id\"].nunique()\n",
    "num_orders = triplets_df.shape[0]\n",
    "num_users, num_outfits, num_orders"
   ]
  },
  {
   "cell_type": "code",
   "execution_count": 20,
   "metadata": {},
   "outputs": [
    {
     "name": "stdout",
     "output_type": "stream",
     "text": [
      "Density of transactions: 7.69E-4 (0.0007687068402113402), Number of users: 7416, Number of outfits: 12193, Number of orders: 69509\n"
     ]
    }
   ],
   "source": [
    "from decimal import Decimal\n",
    "\n",
    "vibrent_density = density_of_transactions(num_orders, num_users, num_outfits)\n",
    "print(f\"Density of transactions: {Decimal(vibrent_density):.2E} ({vibrent_density}), Number of users: {Decimal(num_users)}, Number of outfits: {Decimal(num_outfits)}, Number of orders: {Decimal(num_orders)}\")"
   ]
  },
  {
   "cell_type": "code",
   "execution_count": 14,
   "metadata": {},
   "outputs": [],
   "source": [
    "outfit_group_dict = outfits_df[[\"id\", \"group\"]].set_index(\"id\").to_dict()[\"group\"]"
   ]
  },
  {
   "cell_type": "code",
   "execution_count": 8,
   "metadata": {},
   "outputs": [],
   "source": [
    "triplets_df[\"outfit_group\"] = triplets_df[\"outfit.id\"].map(outfit_group_dict)"
   ]
  },
  {
   "cell_type": "code",
   "execution_count": 9,
   "metadata": {},
   "outputs": [],
   "source": [
    "triplets_df = triplets_df.drop_duplicates(subset=[\"customer.id\", \"outfit_group\"]).copy()"
   ]
  },
  {
   "cell_type": "code",
   "execution_count": 10,
   "metadata": {},
   "outputs": [
    {
     "data": {
      "text/plain": [
       "(7416, 7928, 68198)"
      ]
     },
     "execution_count": 10,
     "metadata": {},
     "output_type": "execute_result"
    }
   ],
   "source": [
    "num_users = triplets_df[\"customer.id\"].nunique()\n",
    "num_outfits = triplets_df[\"outfit_group\"].nunique()\n",
    "num_orders = triplets_df.shape[0]\n",
    "num_users, num_outfits, num_orders"
   ]
  },
  {
   "cell_type": "code",
   "execution_count": 13,
   "metadata": {},
   "outputs": [
    {
     "name": "stdout",
     "output_type": "stream",
     "text": [
      "Density of transactions: 1.16E-3 (0.0011599473470511846), Number of users: 7416, Number of outfits: 7928, Number of orders: 68198\n"
     ]
    }
   ],
   "source": [
    "vibrent_density = density_of_transactions(num_orders, num_users, num_outfits)\n",
    "print(f\"Density of transactions: {Decimal(vibrent_density):.2E} ({vibrent_density}), Number of users: {Decimal(num_users)}, Number of outfits: {Decimal(num_outfits)}, Number of orders: {Decimal(num_orders)}\")"
   ]
  },
  {
   "cell_type": "code",
   "execution_count": 16,
   "metadata": {},
   "outputs": [
    {
     "data": {
      "text/plain": [
       "0.0003117665293831097"
      ]
     },
     "execution_count": 16,
     "metadata": {},
     "output_type": "execute_result"
    }
   ],
   "source": [
    "rtr_density"
   ]
  },
  {
   "cell_type": "code",
   "execution_count": 21,
   "metadata": {},
   "outputs": [
    {
     "data": {
      "image/png": "[encoded data removed]",
      "text/plain": [
       "<Figure size 640x480 with 1 Axes>"
      ]
     },
     "metadata": {},
     "output_type": "display_data"
    }
   ],
   "source": [
    "import matplotlib.pyplot as plt\n",
    "import pandas as pd\n",
    "\n",
    "DENSITIES = {\n",
    "    \"H&M Fashion\": 0.00019172855246088317,\n",
    "    \"Netflix Prize\": 0.01177557662406687,\n",
    "    \"Clothing Rental Groups\": 0.0011599473470511846,\n",
    "    \"Clothing Rental Individual\": 0.0007687068402113402,\n",
    "    \"Rent The Runway\": 0.0003117665293831097,\n",
    "    \"Goodreads\": 1.6260964205629808e-05,\n",
    "    \"Amazon Fashion\": 6.3e-06,\n",
    "    \"Book Rental\": 3.4083453369004934e-05\n",
    "}\n",
    "\n",
    "densities_df = pd.DataFrame.from_dict(DENSITIES, orient=\"index\", columns=[\"density\"])\n",
    "densities_df.sort_values(by=\"density\", ascending=False, inplace=True)\n",
    "densities_df.index.name = \"dataset\"\n",
    "densities_df = densities_df.reset_index()\n",
    "\n",
    "ax = densities_df.plot(kind=\"bar\", x=\"dataset\", y=\"density\", title=\"Density of datasets\", color=\"skyblue\", legend=False)\n",
    "#ax.set_ylim(0, max(DENSITIES.values()) + 0.0015)\n",
    "ax.set_ylabel(\"Density\")\n",
    "ax.set_xlabel(\"\")\n",
    "ax.set_yscale(\"log\")\n",
    "ax.set_ylim(1e-6, 1e-1)\n",
    "ax.set_xticklabels(densities_df[\"dataset\"], rotation=45)\n",
    "\n",
    "# Annotate the value of each bar\n",
    "for i in ax.patches:\n",
    "    ax.annotate(format(i.get_height(), '.6f'), \n",
    "                (i.get_x() + i.get_width() / 2., i.get_height()), \n",
    "                ha = 'center', va = 'center', \n",
    "                xytext = (0, 10), \n",
    "                textcoords = 'offset points')\n",
    "\n",
    "plt.savefig(\"reports/figures/density_of_datasets.pdf\", format=\"pdf\", bbox_inches=\"tight\")\n",
    "\n",
    "plt.tight_layout()\n",
    "plt.show()\n"
   ]
  },
  {
   "cell_type": "code",
   "execution_count": 22,
   "metadata": {},
   "outputs": [
    {
     "name": "stdout",
     "output_type": "stream",
     "text": [
      "\n",
      "\\begin{table}[h]\n",
      "\\centering\n",
      "\\begin{tabular}{|l|c|}\n",
      "\\hline\n",
      "\\textbf{Dataset} & \\textbf{Density} \\\\\n",
      "\\hline\n",
      "Netflix Prize & 1.18e-02 \\\\ \\hline \n",
      "Clothing Rental Groups & 1.16e-03 \\\\ \\hline \n",
      "Clothing Rental Individual & 7.69e-04 \\\\ \\hline \n",
      "Rent The Runway & 3.12e-04 \\\\ \\hline \n",
      "H\\&M Fashion & 1.92e-04 \\\\ \\hline \n",
      "Book Rental & 3.41e-05 \\\\ \\hline \n",
      "Goodreads & 1.63e-05 \\\\ \\hline \n",
      "Amazon Fashion & 6.30e-06 \\\\ \\hline \n",
      "\\hline\n",
      "\\end{tabular}\n",
      "\\caption{Comparison between the density of various datasets.}\n",
      "\\label{tab:density-comparison}\n",
      "\\end{table}\n",
      "\n"
     ]
    },
    {
     "ename": "",
     "evalue": "",
     "output_type": "error",
     "traceback": [
      "\u001b[1;31mThe Kernel crashed while executing code in the current cell or a previous cell. \n",
      "\u001b[1;31mPlease review the code in the cell(s) to identify a possible cause of the failure. \n",
      "\u001b[1;31mClick <a href='https://aka.ms/vscodeJupyterKernelCrash'>here</a> for more info. \n",
      "\u001b[1;31mView Jupyter <a href='command:jupyter.viewOutput'>log</a> for further details."
     ]
    }
   ],
   "source": [
    "# Start of the LaTeX table\n",
    "latex_table = r\"\"\"\n",
    "\\begin{table}[h]\n",
    "\\centering\n",
    "\\begin{tabular}{|l|c|}\n",
    "\\hline\n",
    "\\textbf{Dataset} & \\textbf{Density} \\\\\n",
    "\\hline\n",
    "\"\"\"\n",
    "\n",
    "# Add each row to the table\n",
    "for dataset, density in sorted(DENSITIES.items(), key=lambda x: x[1], reverse=True):\n",
    "    dataset = dataset.replace(\"&\", \"\\&\")\n",
    "    latex_table += f\"{dataset} & {density:.2e} \\\\\\\\ \\\\hline \\n\"\n",
    "\n",
    "# End of the LaTeX table\n",
    "latex_table += r\"\"\"\\hline\n",
    "\\end{tabular}\n",
    "\\caption{Comparison between the density of various datasets.}\n",
    "\\label{tab:density-comparison}\n",
    "\\end{table}\n",
    "\"\"\"\n",
    "\n",
    "print(latex_table)"
   ]
  },
  {
   "cell_type": "code",
   "execution_count": 85,
   "metadata": {},
   "outputs": [],
   "source": [
    "AMAZON_FASHION_DATASET = r\"resources\\other_datasets\\Amazon_fashion\\AMAZON_FASHION.json\"\n",
    "\n",
    "amazon_fashion_df = pd.read_json(AMAZON_FASHION_DATASET, lines=True)"
   ]
  },
  {
   "cell_type": "code",
   "execution_count": 87,
   "metadata": {},
   "outputs": [
    {
     "name": "stdout",
     "output_type": "stream",
     "text": [
      "186189 749233 883636\n"
     ]
    },
    {
     "data": {
      "text/plain": [
       "6.334356237850697e-06"
      ]
     },
     "execution_count": 87,
     "metadata": {},
     "output_type": "execute_result"
    }
   ],
   "source": [
    "num_articles = amazon_fashion_df[\"asin\"].nunique()\n",
    "num_customers = amazon_fashion_df[\"reviewerID\"].nunique()\n",
    "num_reviews = amazon_fashion_df.shape[0]\n",
    "print(num_articles, num_customers, num_reviews)\n",
    "amazon_fashion_density = density_of_transactions(num_reviews, num_customers, num_articles)\n",
    "amazon_fashion_density"
   ]
  },
  {
   "cell_type": "code",
   "execution_count": 90,
   "metadata": {},
   "outputs": [
    {
     "data": {
      "text/plain": [
       "6.3e-06"
      ]
     },
     "execution_count": 90,
     "metadata": {},
     "output_type": "execute_result"
    }
   ],
   "source": [
    "round(amazon_fashion_density, 7)"
   ]
  },
  {
   "cell_type": "code",
   "execution_count": 92,
   "metadata": {},
   "outputs": [
    {
     "data": {
      "text/html": [
       "<div>\n",
       "<style scoped>\n",
       "    .dataframe tbody tr th:only-of-type {\n",
       "        vertical-align: middle;\n",
       "    }\n",
       "\n",
       "    .dataframe tbody tr th {\n",
       "        vertical-align: top;\n",
       "    }\n",
       "\n",
       "    .dataframe thead th {\n",
       "        text-align: right;\n",
       "    }\n",
       "</style>\n",
       "<table border=\"1\" class=\"dataframe\">\n",
       "  <thead>\n",
       "    <tr style=\"text-align: right;\">\n",
       "      <th></th>\n",
       "      <th>overall</th>\n",
       "      <th>verified</th>\n",
       "      <th>reviewTime</th>\n",
       "      <th>reviewerID</th>\n",
       "      <th>asin</th>\n",
       "      <th>reviewerName</th>\n",
       "      <th>reviewText</th>\n",
       "      <th>summary</th>\n",
       "      <th>unixReviewTime</th>\n",
       "      <th>vote</th>\n",
       "      <th>style</th>\n",
       "      <th>image</th>\n",
       "    </tr>\n",
       "  </thead>\n",
       "  <tbody>\n",
       "    <tr>\n",
       "      <th>0</th>\n",
       "      <td>5</td>\n",
       "      <td>True</td>\n",
       "      <td>10 20, 2014</td>\n",
       "      <td>A1D4G1SNUZWQOT</td>\n",
       "      <td>7106116521</td>\n",
       "      <td>Tracy</td>\n",
       "      <td>Exactly what I needed.</td>\n",
       "      <td>perfect replacements!!</td>\n",
       "      <td>1413763200</td>\n",
       "      <td>NaN</td>\n",
       "      <td>NaN</td>\n",
       "      <td>NaN</td>\n",
       "    </tr>\n",
       "    <tr>\n",
       "      <th>1</th>\n",
       "      <td>2</td>\n",
       "      <td>True</td>\n",
       "      <td>09 28, 2014</td>\n",
       "      <td>A3DDWDH9PX2YX2</td>\n",
       "      <td>7106116521</td>\n",
       "      <td>Sonja Lau</td>\n",
       "      <td>I agree with the other review, the opening is ...</td>\n",
       "      <td>I agree with the other review, the opening is ...</td>\n",
       "      <td>1411862400</td>\n",
       "      <td>3.0</td>\n",
       "      <td>NaN</td>\n",
       "      <td>NaN</td>\n",
       "    </tr>\n",
       "    <tr>\n",
       "      <th>2</th>\n",
       "      <td>4</td>\n",
       "      <td>False</td>\n",
       "      <td>08 25, 2014</td>\n",
       "      <td>A2MWC41EW7XL15</td>\n",
       "      <td>7106116521</td>\n",
       "      <td>Kathleen</td>\n",
       "      <td>Love these... I am going to order another pack...</td>\n",
       "      <td>My New 'Friends' !!</td>\n",
       "      <td>1408924800</td>\n",
       "      <td>NaN</td>\n",
       "      <td>NaN</td>\n",
       "      <td>NaN</td>\n",
       "    </tr>\n",
       "    <tr>\n",
       "      <th>3</th>\n",
       "      <td>2</td>\n",
       "      <td>True</td>\n",
       "      <td>08 24, 2014</td>\n",
       "      <td>A2UH2QQ275NV45</td>\n",
       "      <td>7106116521</td>\n",
       "      <td>Jodi Stoner</td>\n",
       "      <td>too tiny an opening</td>\n",
       "      <td>Two Stars</td>\n",
       "      <td>1408838400</td>\n",
       "      <td>NaN</td>\n",
       "      <td>NaN</td>\n",
       "      <td>NaN</td>\n",
       "    </tr>\n",
       "    <tr>\n",
       "      <th>4</th>\n",
       "      <td>3</td>\n",
       "      <td>False</td>\n",
       "      <td>07 27, 2014</td>\n",
       "      <td>A89F3LQADZBS5</td>\n",
       "      <td>7106116521</td>\n",
       "      <td>Alexander D.</td>\n",
       "      <td>Okay</td>\n",
       "      <td>Three Stars</td>\n",
       "      <td>1406419200</td>\n",
       "      <td>NaN</td>\n",
       "      <td>NaN</td>\n",
       "      <td>NaN</td>\n",
       "    </tr>\n",
       "    <tr>\n",
       "      <th>...</th>\n",
       "      <td>...</td>\n",
       "      <td>...</td>\n",
       "      <td>...</td>\n",
       "      <td>...</td>\n",
       "      <td>...</td>\n",
       "      <td>...</td>\n",
       "      <td>...</td>\n",
       "      <td>...</td>\n",
       "      <td>...</td>\n",
       "      <td>...</td>\n",
       "      <td>...</td>\n",
       "      <td>...</td>\n",
       "    </tr>\n",
       "    <tr>\n",
       "      <th>883631</th>\n",
       "      <td>5</td>\n",
       "      <td>True</td>\n",
       "      <td>02 21, 2017</td>\n",
       "      <td>A1ZSB2Q144UTEY</td>\n",
       "      <td>B01HJHTH5U</td>\n",
       "      <td>Amazon Customer</td>\n",
       "      <td>I absolutely love this dress!!  It's sexy and ...</td>\n",
       "      <td>I absolutely love this dress</td>\n",
       "      <td>1487635200</td>\n",
       "      <td>NaN</td>\n",
       "      <td>NaN</td>\n",
       "      <td>NaN</td>\n",
       "    </tr>\n",
       "    <tr>\n",
       "      <th>883632</th>\n",
       "      <td>5</td>\n",
       "      <td>True</td>\n",
       "      <td>11 25, 2016</td>\n",
       "      <td>A2CCDV0J5VB6F2</td>\n",
       "      <td>B01HJHTH5U</td>\n",
       "      <td>Amazon Customer</td>\n",
       "      <td>I'm 5'6 175lbs. I'm on the tall side. I wear a...</td>\n",
       "      <td>I wear a large and ordered a large and it stil...</td>\n",
       "      <td>1480032000</td>\n",
       "      <td>2.0</td>\n",
       "      <td>NaN</td>\n",
       "      <td>NaN</td>\n",
       "    </tr>\n",
       "    <tr>\n",
       "      <th>883633</th>\n",
       "      <td>3</td>\n",
       "      <td>True</td>\n",
       "      <td>11 10, 2016</td>\n",
       "      <td>A3O90PACS7B61K</td>\n",
       "      <td>B01HJHTH5U</td>\n",
       "      <td>Fabfifty</td>\n",
       "      <td>Too big in the chest area!</td>\n",
       "      <td>Three Stars</td>\n",
       "      <td>1478736000</td>\n",
       "      <td>NaN</td>\n",
       "      <td>NaN</td>\n",
       "      <td>NaN</td>\n",
       "    </tr>\n",
       "    <tr>\n",
       "      <th>883634</th>\n",
       "      <td>3</td>\n",
       "      <td>True</td>\n",
       "      <td>11 10, 2016</td>\n",
       "      <td>A2HO94I89U3LNH</td>\n",
       "      <td>B01HJHF97K</td>\n",
       "      <td>Mgomez</td>\n",
       "      <td>Too clear in the back, needs lining</td>\n",
       "      <td>Three Stars</td>\n",
       "      <td>1478736000</td>\n",
       "      <td>NaN</td>\n",
       "      <td>NaN</td>\n",
       "      <td>NaN</td>\n",
       "    </tr>\n",
       "    <tr>\n",
       "      <th>883635</th>\n",
       "      <td>5</td>\n",
       "      <td>True</td>\n",
       "      <td>08 9, 2016</td>\n",
       "      <td>A2RSX9E79DUHRX</td>\n",
       "      <td>B01HJG5NMW</td>\n",
       "      <td>Natasha Mascarenhas</td>\n",
       "      <td>Ordered and was slightly small. Worked with th...</td>\n",
       "      <td>The quality is excellent and it is so cute</td>\n",
       "      <td>1470700800</td>\n",
       "      <td>NaN</td>\n",
       "      <td>NaN</td>\n",
       "      <td>NaN</td>\n",
       "    </tr>\n",
       "  </tbody>\n",
       "</table>\n",
       "<p>883636 rows × 12 columns</p>\n",
       "</div>"
      ],
      "text/plain": [
       "        overall  verified   reviewTime      reviewerID        asin  \\\n",
       "0             5      True  10 20, 2014  A1D4G1SNUZWQOT  7106116521   \n",
       "1             2      True  09 28, 2014  A3DDWDH9PX2YX2  7106116521   \n",
       "2             4     False  08 25, 2014  A2MWC41EW7XL15  7106116521   \n",
       "3             2      True  08 24, 2014  A2UH2QQ275NV45  7106116521   \n",
       "4             3     False  07 27, 2014   A89F3LQADZBS5  7106116521   \n",
       "...         ...       ...          ...             ...         ...   \n",
       "883631        5      True  02 21, 2017  A1ZSB2Q144UTEY  B01HJHTH5U   \n",
       "883632        5      True  11 25, 2016  A2CCDV0J5VB6F2  B01HJHTH5U   \n",
       "883633        3      True  11 10, 2016  A3O90PACS7B61K  B01HJHTH5U   \n",
       "883634        3      True  11 10, 2016  A2HO94I89U3LNH  B01HJHF97K   \n",
       "883635        5      True   08 9, 2016  A2RSX9E79DUHRX  B01HJG5NMW   \n",
       "\n",
       "               reviewerName  \\\n",
       "0                     Tracy   \n",
       "1                 Sonja Lau   \n",
       "2                  Kathleen   \n",
       "3               Jodi Stoner   \n",
       "4              Alexander D.   \n",
       "...                     ...   \n",
       "883631      Amazon Customer   \n",
       "883632      Amazon Customer   \n",
       "883633             Fabfifty   \n",
       "883634               Mgomez   \n",
       "883635  Natasha Mascarenhas   \n",
       "\n",
       "                                               reviewText  \\\n",
       "0                                  Exactly what I needed.   \n",
       "1       I agree with the other review, the opening is ...   \n",
       "2       Love these... I am going to order another pack...   \n",
       "3                                     too tiny an opening   \n",
       "4                                                    Okay   \n",
       "...                                                   ...   \n",
       "883631  I absolutely love this dress!!  It's sexy and ...   \n",
       "883632  I'm 5'6 175lbs. I'm on the tall side. I wear a...   \n",
       "883633                         Too big in the chest area!   \n",
       "883634                Too clear in the back, needs lining   \n",
       "883635  Ordered and was slightly small. Worked with th...   \n",
       "\n",
       "                                                  summary  unixReviewTime  \\\n",
       "0                                  perfect replacements!!      1413763200   \n",
       "1       I agree with the other review, the opening is ...      1411862400   \n",
       "2                                     My New 'Friends' !!      1408924800   \n",
       "3                                               Two Stars      1408838400   \n",
       "4                                             Three Stars      1406419200   \n",
       "...                                                   ...             ...   \n",
       "883631                       I absolutely love this dress      1487635200   \n",
       "883632  I wear a large and ordered a large and it stil...      1480032000   \n",
       "883633                                        Three Stars      1478736000   \n",
       "883634                                        Three Stars      1478736000   \n",
       "883635         The quality is excellent and it is so cute      1470700800   \n",
       "\n",
       "        vote style image  \n",
       "0        NaN   NaN   NaN  \n",
       "1        3.0   NaN   NaN  \n",
       "2        NaN   NaN   NaN  \n",
       "3        NaN   NaN   NaN  \n",
       "4        NaN   NaN   NaN  \n",
       "...      ...   ...   ...  \n",
       "883631   NaN   NaN   NaN  \n",
       "883632   2.0   NaN   NaN  \n",
       "883633   NaN   NaN   NaN  \n",
       "883634   NaN   NaN   NaN  \n",
       "883635   NaN   NaN   NaN  \n",
       "\n",
       "[883636 rows x 12 columns]"
      ]
     },
     "execution_count": 92,
     "metadata": {},
     "output_type": "execute_result"
    }
   ],
   "source": [
    "amazon_fashion_df"
   ]
  },
  {
   "cell_type": "code",
   "execution_count": 3,
   "metadata": {},
   "outputs": [],
   "source": [
    "GOODREADS_DATASET = r\"resources\\other_datasets\\Goodreads\\goodreads_reviews_dedup.json\"\n",
    "\n",
    "goodreads_df = pd.read_json(GOODREADS_DATASET, lines=True)"
   ]
  },
  {
   "cell_type": "code",
   "execution_count": 5,
   "metadata": {},
   "outputs": [
    {
     "name": "stdout",
     "output_type": "stream",
     "text": [
      "465323 2080190 15739967\n"
     ]
    },
    {
     "data": {
      "text/plain": [
       "1.6260964205629808e-05"
      ]
     },
     "execution_count": 5,
     "metadata": {},
     "output_type": "execute_result"
    }
   ],
   "source": [
    "num_users = goodreads_df[\"user_id\"].nunique()\n",
    "num_books = goodreads_df[\"book_id\"].nunique()\n",
    "num_reviews = goodreads_df.shape[0]\n",
    "print(num_users, num_books, num_reviews)\n",
    "goodreads_density = density_of_transactions(num_reviews, num_users, num_books)\n",
    "goodreads_density"
   ]
  },
  {
   "cell_type": "code",
   "execution_count": 7,
   "metadata": {},
   "outputs": [
    {
     "data": {
      "text/plain": [
       "'0.0000163'"
      ]
     },
     "execution_count": 7,
     "metadata": {},
     "output_type": "execute_result"
    }
   ],
   "source": [
    "format(goodreads_density, \".7f\")"
   ]
  },
  {
   "cell_type": "code",
   "execution_count": 19,
   "metadata": {},
   "outputs": [],
   "source": [
    "BOOK_RENTAL_PATH = r\"resources\\other_datasets\\book_rental_dataset\\BX-Book-Ratings.csv\"\n",
    "\n",
    "book_rental_df = pd.read_csv(BOOK_RENTAL_PATH, sep=\",\", encoding=\"latin1\")"
   ]
  },
  {
   "cell_type": "code",
   "execution_count": 21,
   "metadata": {},
   "outputs": [
    {
     "name": "stdout",
     "output_type": "stream",
     "text": [
      "95513 322102 1048575\n",
      "3.4083453369004934e-05\n"
     ]
    }
   ],
   "source": [
    "num_users = book_rental_df[\"user_id\"].nunique()\n",
    "num_books = book_rental_df[\"isbn\"].nunique()\n",
    "num_reviews = book_rental_df.shape[0]\n",
    "\n",
    "book_rental_density = density_of_transactions(num_reviews, num_users, num_books)\n",
    "print(num_users, num_books, num_reviews)\n",
    "print(book_rental_density)"
   ]
  },
  {
   "cell_type": "code",
   "execution_count": 23,
   "metadata": {},
   "outputs": [
    {
     "name": "stdout",
     "output_type": "stream",
     "text": [
      "95513 322102 1048306\n",
      "3.40747096463754e-05\n"
     ]
    }
   ],
   "source": [
    "book_rental_df = book_rental_df.drop_duplicates(subset=[\"user_id\", \"isbn\"])\n",
    "\n",
    "num_users = book_rental_df[\"user_id\"].nunique()\n",
    "num_books = book_rental_df[\"isbn\"].nunique()\n",
    "num_reviews = book_rental_df.shape[0]\n",
    "\n",
    "book_rental_density = density_of_transactions(num_reviews, num_users, num_books)\n",
    "print(num_users, num_books, num_reviews)\n",
    "print(book_rental_density)"
   ]
  }
 ],
 "metadata": {
  "kernelspec": {
   "display_name": "baseline-env",
   "language": "python",
   "name": "python3"
  },
  "language_info": {
   "codemirror_mode": {
    "name": "ipython",
    "version": 3
   },
   "file_extension": ".py",
   "mimetype": "text/x-python",
   "name": "python",
   "nbconvert_exporter": "python",
   "pygments_lexer": "ipython3",
   "version": "3.10.13"
  }
 },
 "nbformat": 4,
 "nbformat_minor": 2
}

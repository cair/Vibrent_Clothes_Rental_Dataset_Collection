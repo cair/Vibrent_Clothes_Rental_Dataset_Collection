{
 "cells": [
  {
   "cell_type": "code",
   "execution_count": 1,
   "metadata": {},
   "outputs": [
    {
     "name": "stdout",
     "output_type": "stream",
     "text": [
      "c:\\Users\\kaborg15\\Python_projects\\Vibrent_Dataset_Collection_Release\n"
     ]
    }
   ],
   "source": [
    "import pandas as pd\n",
    "import numpy as np\n",
    "import os\n",
    "os.chdir(os.path.dirname(os.getcwd()))\n",
    "print(os.getcwd())\n",
    "\n",
    "%load_ext autoreload\n",
    "%autoreload 2\n",
    "%reload_ext autoreload\n",
    "\n",
    "\n",
    "from resources.constants import *\n",
    "\n",
    "pictures_df = pd.read_csv(PICTURE_TRIPLETS_CSV_PATH, sep=CSV_SEPARATOR)\n",
    "outfits_df = pd.read_csv(OUTFITS_CSV_PATH, sep=CSV_SEPARATOR)\n",
    "user_triplets_df = pd.read_csv(USER_ACTIVITY_TRIPLETS_CSV_PATH, sep=CSV_SEPARATOR)\n",
    "\n",
    "# CSV files are read as strings, so we need to convert them to lists\n",
    "outfits_df[\"tag_categories\"] = outfits_df[\"tag_categories\"].apply(eval)\n",
    "outfits_df[\"outfit_tags\"] = outfits_df[\"outfit_tags\"].apply(eval)"
   ]
  },
  {
   "cell_type": "code",
   "execution_count": 2,
   "metadata": {},
   "outputs": [],
   "source": [
    "original_orders_df = pd.read_csv(ORIGINAL_ORDERS_CSV_PATH, sep=CSV_SEPARATOR)\n",
    "user_triplets_df = pd.concat([user_triplets_df, original_orders_df], ignore_index=True)"
   ]
  },
  {
   "cell_type": "code",
   "execution_count": 3,
   "metadata": {},
   "outputs": [
    {
     "name": "stdout",
     "output_type": "stream",
     "text": [
      "4949\n"
     ]
    }
   ],
   "source": [
    "from src.prepare_train_test_splits import translate_user_triplets_to_orders, remove_consecutive_duplicates\n",
    "\n",
    "# Convert triplets into entries for each individual user\n",
    "user_triplets_df = remove_consecutive_duplicates(user_triplets_df)\n",
    "user_orders_df = translate_user_triplets_to_orders(user_triplets_df, outfits_df)"
   ]
  },
  {
   "cell_type": "code",
   "execution_count": 4,
   "metadata": {},
   "outputs": [
    {
     "name": "stdout",
     "output_type": "stream",
     "text": [
      "No unique outfit found with groups ['group.a494d07781a1aab0e3a42989288feff2'\n",
      " 'group.a494d07781a1aab0e3a42989288feff2']\n",
      "No unique outfit found with groups ['group.423a23f6717e6d85adac54c051ee9832'\n",
      " 'group.423a23f6717e6d85adac54c051ee9832']\n",
      "No unique outfit found with groups ['group.ae8da3f0ad6f8ff3f83b2af96e975991'\n",
      " 'group.ae8da3f0ad6f8ff3f83b2af96e975991']\n",
      "No unique outfit found with groups ['group.9b5204b87abc93f8f0467b0a6a9c6a97'\n",
      " 'group.9b5204b87abc93f8f0467b0a6a9c6a97'\n",
      " 'group.9b5204b87abc93f8f0467b0a6a9c6a97']\n",
      "No unique outfit found with groups ['group.148f5272ecc1480d49191b3923aab5a2'\n",
      " 'group.148f5272ecc1480d49191b3923aab5a2']\n",
      "No unique outfit found with groups ['group.1bfd2412df50ac58b23bd8f52c6b4b35'\n",
      " 'group.1bfd2412df50ac58b23bd8f52c6b4b35']\n",
      "No unique outfit found with groups ['group.2c7095c075561fe6278f3a2d7c1d6ac9'\n",
      " 'group.2c7095c075561fe6278f3a2d7c1d6ac9']\n",
      "No unique outfit found with groups ['group.e0cb0f6e113edc4df8a1e304376734f6'\n",
      " 'group.e0cb0f6e113edc4df8a1e304376734f6']\n",
      "No unique outfit found with groups ['group.a1d284ef1c7035dd14e57eba3838a303'\n",
      " 'group.a1d284ef1c7035dd14e57eba3838a303']\n",
      "No unique outfit found with groups ['group.384b8170c6a6ddfd568ff7fab5fb49c4'\n",
      " 'group.384b8170c6a6ddfd568ff7fab5fb49c4']\n",
      "No unique outfit found with groups ['group.8e50238120d13b31284f151941c2ee81'\n",
      " 'group.8e50238120d13b31284f151941c2ee81']\n",
      "No unique outfit found with groups ['group.edb60c2f440a9ac7d0883fb9371c8607'\n",
      " 'group.edb60c2f440a9ac7d0883fb9371c8607']\n",
      "No unique outfit found with groups ['group.4bd4ee24eac8948e82783b15d9404f6b'\n",
      " 'group.4bd4ee24eac8948e82783b15d9404f6b']\n",
      "No unique outfit found with groups ['group.a3ab26b5d2f7ef2cf102422a3dde3b46'\n",
      " 'group.a3ab26b5d2f7ef2cf102422a3dde3b46']\n"
     ]
    }
   ],
   "source": [
    "import numpy as np\n",
    "from src.prepare_train_test_splits import convert_user_orders_to_train_test_splits\n",
    "\n",
    "# Split the data into train and test sets, with one dataframe with no restirictions on outfits in the test data and one that prohibits repeated outfits\n",
    "# It prints any cases in which it is unable to construct a test set with unique outfits.\n",
    "user_splits_df, user_splits_unique_df = convert_user_orders_to_train_test_splits(user_orders_df, percentage_test=0.3)"
   ]
  },
  {
   "cell_type": "code",
   "execution_count": 6,
   "metadata": {},
   "outputs": [
    {
     "data": {
      "application/vnd.jupyter.widget-view+json": {
       "model_id": "38622481fbea408c8955b8eb6808bda3",
       "version_major": 2,
       "version_minor": 0
      },
      "text/plain": [
       "  0%|          | 0/50 [00:00<?, ?it/s]"
      ]
     },
     "metadata": {},
     "output_type": "display_data"
    },
    {
     "data": {
      "application/vnd.jupyter.widget-view+json": {
       "model_id": "3d32a22e984247babab018861b220106",
       "version_major": 2,
       "version_minor": 0
      },
      "text/plain": [
       "  0%|          | 0/50 [00:00<?, ?it/s]"
      ]
     },
     "metadata": {},
     "output_type": "display_data"
    },
    {
     "name": "stdout",
     "output_type": "stream",
     "text": [
      "Run name: All Outfits Factors: 32, Regularization: 0.01\n"
     ]
    },
    {
     "data": {
      "text/plain": [
       "id_hit_rate_at_100       0.175461\n",
       "id_hit_rate_at_10        0.037910\n",
       "group_hit_rate_at_100    0.239754\n",
       "group_hit_rate_at_10     0.055072\n",
       "dtype: float64"
      ]
     },
     "metadata": {},
     "output_type": "display_data"
    },
    {
     "name": "stdout",
     "output_type": "stream",
     "text": [
      "====================\n"
     ]
    },
    {
     "data": {
      "application/vnd.jupyter.widget-view+json": {
       "model_id": "8668a19577144be993978450f9387fe0",
       "version_major": 2,
       "version_minor": 0
      },
      "text/plain": [
       "  0%|          | 0/50 [00:00<?, ?it/s]"
      ]
     },
     "metadata": {},
     "output_type": "display_data"
    },
    {
     "data": {
      "application/vnd.jupyter.widget-view+json": {
       "model_id": "246188782c3a46adb8f3dcc6610c6fad",
       "version_major": 2,
       "version_minor": 0
      },
      "text/plain": [
       "  0%|          | 0/50 [00:00<?, ?it/s]"
      ]
     },
     "metadata": {},
     "output_type": "display_data"
    },
    {
     "name": "stdout",
     "output_type": "stream",
     "text": [
      "Run name: Unique Outfit Factors: 32, Regularization: 0.01\n"
     ]
    },
    {
     "data": {
      "text/plain": [
       "id_hit_rate_at_100       0.160154\n",
       "id_hit_rate_at_10        0.037789\n",
       "group_hit_rate_at_100    0.222622\n",
       "group_hit_rate_at_10     0.062468\n",
       "dtype: float64"
      ]
     },
     "metadata": {},
     "output_type": "display_data"
    },
    {
     "name": "stdout",
     "output_type": "stream",
     "text": [
      "====================\n"
     ]
    }
   ],
   "source": [
    "import pandas as pd\n",
    "import implicit\n",
    "from scipy.sparse import coo_matrix\n",
    "from IPython.display import display\n",
    "from itertools import product\n",
    "\n",
    "\n",
    "from src.evaluate_models import evaluate_model, evaluate_hit_rate_at_n, get_outfit_id_from_index\n",
    "\n",
    "def train_als_model(user_splits_df, outfit_column, factors=16, regularization=0.1, iterations=50):\n",
    "    flat_df = user_splits_df.explode(outfit_column)\n",
    "    flat_df[\"value\"] = 1\n",
    "    \n",
    "    unique_outfit_ids = flat_df[outfit_column].unique()\n",
    "    outfit_to_index = {outfit_id: i for i, outfit_id in enumerate(unique_outfit_ids)}\n",
    "    flat_df[\"outfit_index\"] = flat_df[outfit_column].map(outfit_to_index)\n",
    "    \n",
    "    unique_users = pd.unique(flat_df.index)\n",
    "    user_to_index = {user_id: i for i, user_id in enumerate(unique_users)}\n",
    "    flat_df['user_index'] = flat_df.index.map(user_to_index)\n",
    "    \n",
    "    # Debug: Check if there are any negative indices\n",
    "    if (flat_df['outfit_index'] < 0).any():\n",
    "        raise ValueError('Negative outfit_index found')\n",
    "    if (flat_df['user_index'] < 0).any():\n",
    "        raise ValueError('Negative user_index found')\n",
    "\n",
    "    coo = coo_matrix(\n",
    "        (flat_df['value'].values, (flat_df['user_index'].values, flat_df['outfit_index'].values)),\n",
    "        shape=(len(unique_users), len(unique_outfit_ids))\n",
    "    )\n",
    "    \n",
    "    np.random.seed(42)\n",
    "    model = implicit.als.AlternatingLeastSquares(factors=factors, regularization=regularization, iterations=iterations, )\n",
    "    csr = coo.tocsr()\n",
    "    model.fit(csr)\n",
    "\n",
    "    return model, csr, outfit_to_index, user_to_index\n",
    "\n",
    "def run_als_training_loop(df, factors, regularization, run_name=\"\"):\n",
    "    model_ind, csr_ind, outfit_id_to_index, user_to_index = train_als_model(df, \"train_outfit_ids\", factors=factors, regularization=regularization)\n",
    "    model_group, csr_group, outfit_group_to_index, _ = train_als_model(df, \"train_group\", factors=factors, regularization=regularization)\n",
    "\n",
    "    df[\"user_index\"] = df.index.map(user_to_index)\n",
    "\n",
    "    ind_index_to_id = {value : key for key, value in outfit_id_to_index.items()}\n",
    "    df[\"ind_recommendations\"] = df.apply(lambda x: evaluate_model(model_ind, csr_ind, x[\"user_index\"], n=100), axis=1)\n",
    "    df[\"ind_recommendations\"] = df.apply(lambda x: get_outfit_id_from_index(x[\"ind_recommendations\"], ind_index_to_id), axis=1)\n",
    "\n",
    "    group_index_to_id = {value : key for key, value in outfit_group_to_index.items()}\n",
    "    df[\"group_recommendations\"] = df.apply(lambda x: evaluate_model(model_group, csr_group, x[\"user_index\"], n=100), axis=1)\n",
    "    df[\"group_recommendations\"] = df.apply(lambda x: get_outfit_id_from_index(x[\"group_recommendations\"], group_index_to_id), axis=1)\n",
    "\n",
    "    HIT_RATE_COLUMNS = [\"id_hit_rate_at_100\", \"id_hit_rate_at_10\", \"group_hit_rate_at_100\", \"group_hit_rate_at_10\"]\n",
    "    df[\"id_hit_rate_at_100\"] = df.apply(lambda x: evaluate_hit_rate_at_n(x[\"test_outfit_id\"], x[\"ind_recommendations\"], n=100), axis=1)\n",
    "    df[\"id_hit_rate_at_10\"] = df.apply(lambda x: evaluate_hit_rate_at_n(x[\"test_outfit_id\"], x[\"ind_recommendations\"], n=10), axis=1)\n",
    "    df[\"group_hit_rate_at_100\"] = df.apply(lambda x: evaluate_hit_rate_at_n(x[\"test_group\"], x[\"group_recommendations\"], n=100), axis=1)\n",
    "    df[\"group_hit_rate_at_10\"] = df.apply(lambda x: evaluate_hit_rate_at_n(x[\"test_group\"], x[\"group_recommendations\"], n=10), axis=1)\n",
    "\n",
    "    print(f\"Run name: {run_name} Factors: {factors}, Regularization: {regularization}\")\n",
    "    display(df[HIT_RATE_COLUMNS].mean())\n",
    "    print(\"=\"*20)\n",
    "\n",
    "    result_dict = {column: df[column].mean() for column in HIT_RATE_COLUMNS}\n",
    "\n",
    "    return df, (factors, regularization, df[\"group_hit_rate_at_100\"].mean(), run_name), result_dict\n",
    "    \n",
    "\n",
    "\n",
    "TEST_FACTORS = [32]\n",
    "TEST_REGULARIZATIONS = [0.01]\n",
    "run_dataframes = [(user_splits_df, \"All Outfits\"), (user_splits_unique_df, \"Unique Outfit\")]\n",
    "\n",
    "test_permutations = list(product(TEST_FACTORS, TEST_REGULARIZATIONS))\n",
    "test_permutations = [(t_factors, t_reg, run_df) for t_factors, t_reg, run_df in product(TEST_FACTORS, TEST_REGULARIZATIONS, run_dataframes)]\n",
    "\n",
    "group_hr_10_means, result_dicts = [], []\n",
    "for test_factors, test_regularization, (df, run_name) in test_permutations:\n",
    "    df, result, result_dict = run_als_training_loop(df, test_factors, test_regularization, run_name=run_name)\n",
    "    result_dicts.append(result_dict)\n",
    "    group_hr_10_means.append(result)\n"
   ]
  },
  {
   "cell_type": "code",
   "execution_count": 7,
   "metadata": {},
   "outputs": [
    {
     "name": "stdout",
     "output_type": "stream",
     "text": [
      "ALS Ind & 0.0379 & 0.1755 & 0.0378 & 0.1602 \\\\\n",
      "ALS Groups & 0.0551 & 0.2398 & 0.0625 & 0.2226 \\\\\\hline\n",
      "\n"
     ]
    }
   ],
   "source": [
    "import pyperclip\n",
    "\n",
    "def format_dicts_into_latex(all_dict, ind_dict, precision=4):\n",
    "    first_row = f\"ALS Ind & {all_dict['id_hit_rate_at_10']:.{precision}f} & {all_dict['id_hit_rate_at_100']:.{precision}f} & {ind_dict['id_hit_rate_at_10']:.{precision}f} & {ind_dict['id_hit_rate_at_100']:.{precision}f} \\\\\\\\\"\n",
    "    second_row = f\"ALS Groups & {all_dict['group_hit_rate_at_10']:.{precision}f} & {all_dict['group_hit_rate_at_100']:.{precision}f} & {ind_dict['group_hit_rate_at_10']:.{precision}f} & {ind_dict['group_hit_rate_at_100']:.{precision}f} \\\\\\\\\\\\hline\"\n",
    "    full_string = first_row + \"\\n\" + second_row + \"\\n\"\n",
    "    print(full_string)\n",
    "    pyperclip.copy(full_string)\n",
    "\n",
    "all_dict, ind_dict = result_dicts\n",
    "format_dicts_into_latex(all_dict, ind_dict, precision=4)"
   ]
  },
  {
   "cell_type": "code",
   "execution_count": 8,
   "metadata": {},
   "outputs": [
    {
     "data": {
      "application/vnd.jupyter.widget-view+json": {
       "model_id": "2fcf4019666a449bb5029597b9205155",
       "version_major": 2,
       "version_minor": 0
      },
      "text/plain": [
       "  0%|          | 0/500 [00:00<?, ?it/s]"
      ]
     },
     "metadata": {},
     "output_type": "display_data"
    },
    {
     "data": {
      "application/vnd.jupyter.widget-view+json": {
       "model_id": "9d63d7d4a53245f29d19da6637660111",
       "version_major": 2,
       "version_minor": 0
      },
      "text/plain": [
       "  0%|          | 0/500 [00:00<?, ?it/s]"
      ]
     },
     "metadata": {},
     "output_type": "display_data"
    },
    {
     "name": "stdout",
     "output_type": "stream",
     "text": [
      "Run name: All Outfits Factors: 128, Regularization: 0.01\n"
     ]
    },
    {
     "data": {
      "text/plain": [
       "id_hit_rate_at_100       0.194928\n",
       "id_hit_rate_at_10        0.037141\n",
       "group_hit_rate_at_100    0.222336\n",
       "group_hit_rate_at_10     0.047900\n",
       "dtype: float64"
      ]
     },
     "metadata": {},
     "output_type": "display_data"
    },
    {
     "name": "stdout",
     "output_type": "stream",
     "text": [
      "====================\n"
     ]
    },
    {
     "data": {
      "application/vnd.jupyter.widget-view+json": {
       "model_id": "441b6ac17a29417685692d2acfd561a3",
       "version_major": 2,
       "version_minor": 0
      },
      "text/plain": [
       "  0%|          | 0/500 [00:00<?, ?it/s]"
      ]
     },
     "metadata": {},
     "output_type": "display_data"
    },
    {
     "data": {
      "application/vnd.jupyter.widget-view+json": {
       "model_id": "b962afb089f645b081f13dfa0ab92ffe",
       "version_major": 2,
       "version_minor": 0
      },
      "text/plain": [
       "  0%|          | 0/500 [00:00<?, ?it/s]"
      ]
     },
     "metadata": {},
     "output_type": "display_data"
    },
    {
     "name": "stdout",
     "output_type": "stream",
     "text": [
      "Run name: Unique Outfit Factors: 128, Regularization: 0.01\n"
     ]
    },
    {
     "data": {
      "text/plain": [
       "id_hit_rate_at_100       0.219280\n",
       "id_hit_rate_at_10        0.043702\n",
       "group_hit_rate_at_100    0.242931\n",
       "group_hit_rate_at_10     0.054499\n",
       "dtype: float64"
      ]
     },
     "metadata": {},
     "output_type": "display_data"
    },
    {
     "name": "stdout",
     "output_type": "stream",
     "text": [
      "====================\n"
     ]
    }
   ],
   "source": [
    "import pandas as pd\n",
    "import implicit\n",
    "from scipy.sparse import coo_matrix\n",
    "from IPython.display import display\n",
    "from itertools import product\n",
    "\n",
    "from implicit.bpr import BayesianPersonalizedRanking\n",
    "\n",
    "\n",
    "def train_bpr_model(user_splits_df, outfit_column, factors=16, regularization=0.1, learning_rate=0.1, iterations=500):\n",
    "    flat_df = user_splits_df.explode(outfit_column)\n",
    "    flat_df[\"value\"] = 1\n",
    "    \n",
    "    unique_outfit_ids = flat_df[outfit_column].unique()\n",
    "    outfit_to_index = {outfit_id: i for i, outfit_id in enumerate(unique_outfit_ids)}\n",
    "    flat_df[\"outfit_index\"] = flat_df[outfit_column].map(outfit_to_index)\n",
    "    \n",
    "    unique_users = pd.unique(flat_df.index)\n",
    "    user_to_index = {user_id: i for i, user_id in enumerate(unique_users)}\n",
    "    flat_df['user_index'] = flat_df.index.map(user_to_index)\n",
    "    \n",
    "    # Debug: Check if there are any negative indices\n",
    "    if (flat_df['outfit_index'] < 0).any():\n",
    "        raise ValueError('Negative outfit_index found')\n",
    "    if (flat_df['user_index'] < 0).any():\n",
    "        raise ValueError('Negative user_index found')\n",
    "\n",
    "    coo = coo_matrix(\n",
    "        (flat_df['value'].values, (flat_df['user_index'].values, flat_df['outfit_index'].values)),\n",
    "        shape=(len(unique_users), len(unique_outfit_ids))\n",
    "    )\n",
    "    \n",
    "    np.random.seed(43)\n",
    "    model = BayesianPersonalizedRanking(factors=factors, regularization=regularization, iterations=iterations, learning_rate=learning_rate)\n",
    "    csr = coo.tocsr()\n",
    "    model.fit(csr)\n",
    "    \n",
    "    return model, csr, outfit_to_index, user_to_index\n",
    "\n",
    "\n",
    "def run_bpr_training_loop(df, factors, regularization, learning_rate, run_name=\"\"):\n",
    "    model_ind, csr_ind, outfit_id_to_index, user_to_index = train_bpr_model(df, \"train_outfit_ids\", factors=factors, regularization=regularization, learning_rate=learning_rate)\n",
    "    model_group, csr_group, outfit_group_to_index, _ = train_bpr_model(df, \"train_group\", factors=factors, regularization=regularization, learning_rate=learning_rate)\n",
    "\n",
    "    df[\"user_index\"] = df.index.map(user_to_index)\n",
    "\n",
    "    ind_index_to_id = {value : key for key, value in outfit_id_to_index.items()}\n",
    "    df[\"ind_recommendations\"] = df.apply(lambda x: evaluate_model(model_ind, csr_ind, x[\"user_index\"], n=100), axis=1)\n",
    "    df[\"ind_recommendations\"] = df.apply(lambda x: get_outfit_id_from_index(x[\"ind_recommendations\"], ind_index_to_id), axis=1)\n",
    "\n",
    "    group_index_to_id = {value : key for key, value in outfit_group_to_index.items()}\n",
    "    df[\"group_recommendations\"] = df.apply(lambda x: evaluate_model(model_group, csr_group, x[\"user_index\"], n=100), axis=1)\n",
    "    df[\"group_recommendations\"] = df.apply(lambda x: get_outfit_id_from_index(x[\"group_recommendations\"], group_index_to_id), axis=1)\n",
    "\n",
    "    HIT_RATE_COLUMNS = [\"id_hit_rate_at_100\", \"id_hit_rate_at_10\", \"group_hit_rate_at_100\", \"group_hit_rate_at_10\"]\n",
    "    df[\"id_hit_rate_at_100\"] = df.apply(lambda x: evaluate_hit_rate_at_n(x[\"test_outfit_id\"], x[\"ind_recommendations\"], n=100), axis=1)\n",
    "    df[\"id_hit_rate_at_10\"] = df.apply(lambda x: evaluate_hit_rate_at_n(x[\"test_outfit_id\"], x[\"ind_recommendations\"], n=10), axis=1)\n",
    "    df[\"group_hit_rate_at_100\"] = df.apply(lambda x: evaluate_hit_rate_at_n(x[\"test_group\"], x[\"group_recommendations\"], n=100), axis=1)\n",
    "    df[\"group_hit_rate_at_10\"] = df.apply(lambda x: evaluate_hit_rate_at_n(x[\"test_group\"], x[\"group_recommendations\"], n=10), axis=1)\n",
    "\n",
    "    print(f\"Run name: {run_name} Factors: {factors}, Regularization: {regularization}\")\n",
    "    display(df[HIT_RATE_COLUMNS].mean())\n",
    "    print(\"=\"*20)\n",
    "\n",
    "    result_dict = {column: df[column].mean() for column in HIT_RATE_COLUMNS}\n",
    "\n",
    "    return df, (factors, regularization, df[\"group_hit_rate_at_100\"].mean(), df[\"id_hit_rate_at_100\"].mean(), run_name), result_dict\n",
    "\n",
    "\n",
    "TEST_FACTORS = [128]\n",
    "TEST_REGULARIZATIONS = [0.01]\n",
    "TEST_LEARNING_RATES = [0.01]\n",
    "#run_dataframes = [user_splits_df]\n",
    "run_dataframes = [(user_splits_df, \"All Outfits\"), (user_splits_unique_df, \"Unique Outfit\")]\n",
    "\n",
    "test_permutations = list(product(TEST_FACTORS, TEST_REGULARIZATIONS, TEST_LEARNING_RATES))\n",
    "test_permutations = [(t_factors, t_reg, t_lr, run_df) for t_factors, t_reg, t_lr, run_df in product(TEST_FACTORS, TEST_REGULARIZATIONS, TEST_LEARNING_RATES, run_dataframes)]\n",
    "\n",
    "group_hr_10_means, result_dicts, result_dataframes = [], [], []\n",
    "for test_factors, test_regularization, test_learning_rate, (df, run_name) in test_permutations:\n",
    "    df, result, result_dict = run_bpr_training_loop(df, test_factors, test_regularization, test_learning_rate, run_name=run_name)\n",
    "    result_dicts.append(result_dict)\n",
    "    group_hr_10_means.append(result)\n",
    "    result_dataframes.append(df.copy())"
   ]
  },
  {
   "cell_type": "code",
   "execution_count": 9,
   "metadata": {},
   "outputs": [
    {
     "name": "stdout",
     "output_type": "stream",
     "text": [
      "0.19492827868852458 0.219280205655527\n"
     ]
    },
    {
     "data": {
      "text/plain": [
       "0.08785860655737705"
      ]
     },
     "execution_count": 9,
     "metadata": {},
     "output_type": "execute_result"
    }
   ],
   "source": [
    "# Check whether the exact hit items for individual and group recommendations overlap for BPR\n",
    "\n",
    "standard_result_df, unique_result_df = result_dataframes\n",
    "print(standard_result_df[\"id_hit_rate_at_100\"].mean(), unique_result_df[\"id_hit_rate_at_100\"].mean())\n",
    "\n",
    "unique_columns = [\"u_\" + column_name for column_name in unique_result_df.columns]\n",
    "unique_result_df.columns = unique_columns\n",
    "\n",
    "def check_if_overlap_in_hit(row, column_name):\n",
    "    hit_standard = row[column_name]\n",
    "    hit_unique = row[\"u_\" + column_name]\n",
    "    return hit_standard > 0.1 and hit_unique > 0.1\n",
    "\n",
    "all_results = pd.concat([standard_result_df, unique_result_df], axis=1)\n",
    "all_results[\"overlap_100\"] = all_results.apply(lambda x: check_if_overlap_in_hit(x, \"id_hit_rate_at_100\"), axis=1)\n",
    "all_results[\"overlap_100\"].mean()"
   ]
  },
  {
   "cell_type": "code",
   "execution_count": 10,
   "metadata": {},
   "outputs": [
    {
     "name": "stdout",
     "output_type": "stream",
     "text": [
      "BPR Ind & 0.0371 & 0.1949 & 0.0437 & 0.2193 \\\\\n",
      "BPR Groups & 0.0479 & 0.2223 & 0.0545 & 0.2429 \\\\\\hline\n",
      "\n"
     ]
    }
   ],
   "source": [
    "import pyperclip\n",
    "\n",
    "def format_dicts_into_latex(all_dict, ind_dict, precision=4):\n",
    "    first_row = f\"BPR Ind & {all_dict['id_hit_rate_at_10']:.{precision}f} & {all_dict['id_hit_rate_at_100']:.{precision}f} & {ind_dict['id_hit_rate_at_10']:.{precision}f} & {ind_dict['id_hit_rate_at_100']:.{precision}f} \\\\\\\\\"\n",
    "    second_row = f\"BPR Groups & {all_dict['group_hit_rate_at_10']:.{precision}f} & {all_dict['group_hit_rate_at_100']:.{precision}f} & {ind_dict['group_hit_rate_at_10']:.{precision}f} & {ind_dict['group_hit_rate_at_100']:.{precision}f} \\\\\\\\\\\\hline\"\n",
    "    full_string = first_row + \"\\n\" + second_row + \"\\n\"\n",
    "    print(full_string)\n",
    "    pyperclip.copy(full_string)\n",
    "\n",
    "all_dict, ind_dict = result_dicts\n",
    "format_dicts_into_latex(all_dict, ind_dict, precision=4)"
   ]
  },
  {
   "cell_type": "code",
   "execution_count": 14,
   "metadata": {},
   "outputs": [
    {
     "data": {
      "application/vnd.jupyter.widget-view+json": {
       "model_id": "3952a27c2c434822bb9594cb69351db8",
       "version_major": 2,
       "version_minor": 0
      },
      "text/plain": [
       "  0%|          | 0/500 [00:00<?, ?it/s]"
      ]
     },
     "metadata": {},
     "output_type": "display_data"
    },
    {
     "data": {
      "application/vnd.jupyter.widget-view+json": {
       "model_id": "288ae3a1493f496d962aac2586c45a15",
       "version_major": 2,
       "version_minor": 0
      },
      "text/plain": [
       "  0%|          | 0/500 [00:00<?, ?it/s]"
      ]
     },
     "metadata": {},
     "output_type": "display_data"
    },
    {
     "name": "stdout",
     "output_type": "stream",
     "text": [
      "Run name: All Outfits Factors: 128, Regularization: 0.01\n"
     ]
    },
    {
     "data": {
      "text/plain": [
       "id_hit_rate_at_100       0.053078\n",
       "id_hit_rate_at_10        0.004460\n",
       "group_hit_rate_at_100    0.082962\n",
       "group_hit_rate_at_10     0.009813\n",
       "dtype: float64"
      ]
     },
     "metadata": {},
     "output_type": "display_data"
    },
    {
     "name": "stdout",
     "output_type": "stream",
     "text": [
      "====================\n"
     ]
    },
    {
     "data": {
      "application/vnd.jupyter.widget-view+json": {
       "model_id": "7e92b8e01936405199178f8ba3e230b1",
       "version_major": 2,
       "version_minor": 0
      },
      "text/plain": [
       "  0%|          | 0/500 [00:00<?, ?it/s]"
      ]
     },
     "metadata": {},
     "output_type": "display_data"
    },
    {
     "data": {
      "application/vnd.jupyter.widget-view+json": {
       "model_id": "18e608517f4e4316b81dbdbdcf39c1b2",
       "version_major": 2,
       "version_minor": 0
      },
      "text/plain": [
       "  0%|          | 0/500 [00:00<?, ?it/s]"
      ]
     },
     "metadata": {},
     "output_type": "display_data"
    },
    {
     "name": "stdout",
     "output_type": "stream",
     "text": [
      "Run name: Unique Outfit Factors: 128, Regularization: 0.01\n"
     ]
    },
    {
     "data": {
      "text/plain": [
       "id_hit_rate_at_100       0.063336\n",
       "id_hit_rate_at_10        0.003568\n",
       "group_hit_rate_at_100    0.087422\n",
       "group_hit_rate_at_10     0.008921\n",
       "dtype: float64"
      ]
     },
     "metadata": {},
     "output_type": "display_data"
    },
    {
     "name": "stdout",
     "output_type": "stream",
     "text": [
      "====================\n"
     ]
    }
   ],
   "source": [
    "import pandas as pd\n",
    "import implicit\n",
    "from scipy.sparse import coo_matrix\n",
    "from IPython.display import display\n",
    "from itertools import product\n",
    "\n",
    "from implicit.lmf import LogisticMatrixFactorization\n",
    "\n",
    "def train_lmf_model(user_splits_df, outfit_column, factors=16, regularization=0.1, learning_rate=0.1, iterations=500):\n",
    "    flat_df = user_splits_df.explode(outfit_column)\n",
    "    flat_df[\"value\"] = 1\n",
    "    \n",
    "    unique_outfit_ids = flat_df[outfit_column].unique()\n",
    "    outfit_to_index = {outfit_id: i for i, outfit_id in enumerate(unique_outfit_ids)}\n",
    "    flat_df[\"outfit_index\"] = flat_df[outfit_column].map(outfit_to_index)\n",
    "    \n",
    "    unique_users = pd.unique(flat_df.index)\n",
    "    user_to_index = {user_id: i for i, user_id in enumerate(unique_users)}\n",
    "    flat_df['user_index'] = flat_df.index.map(user_to_index)\n",
    "    \n",
    "    # Debug: Check if there are any negative indices\n",
    "    if (flat_df['outfit_index'] < 0).any():\n",
    "        raise ValueError('Negative outfit_index found')\n",
    "    if (flat_df['user_index'] < 0).any():\n",
    "        raise ValueError('Negative user_index found')\n",
    "\n",
    "    coo = coo_matrix(\n",
    "        (flat_df['value'].values, (flat_df['user_index'].values, flat_df['outfit_index'].values)),\n",
    "        shape=(len(unique_users), len(unique_outfit_ids))\n",
    "    )\n",
    "    \n",
    "    np.random.seed(43)\n",
    "    model = LogisticMatrixFactorization(factors=factors, regularization=regularization, iterations=iterations, learning_rate=learning_rate)\n",
    "    csr = coo.tocsr()\n",
    "    model.fit(csr)\n",
    "    \n",
    "    return model, csr, outfit_to_index, user_to_index\n",
    "\n",
    "def run_lmf_training_loop(df, factors, regularization, learning_rate, run_name=\"\"):\n",
    "    model_ind, csr_ind, outfit_id_to_index, user_to_index = train_lmf_model(df, \"train_outfit_ids\", factors=factors, regularization=regularization, learning_rate=learning_rate)\n",
    "    model_group, csr_group, outfit_group_to_index, _ = train_lmf_model(df, \"train_group\", factors=factors, regularization=regularization, learning_rate=learning_rate)\n",
    "\n",
    "    df[\"user_index\"] = df.index.map(user_to_index)\n",
    "\n",
    "    ind_index_to_id = {value : key for key, value in outfit_id_to_index.items()}\n",
    "    df[\"ind_recommendations\"] = df.apply(lambda x: evaluate_model(model_ind, csr_ind, x[\"user_index\"], n=100), axis=1)\n",
    "    df[\"ind_recommendations\"] = df.apply(lambda x: get_outfit_id_from_index(x[\"ind_recommendations\"], ind_index_to_id), axis=1)\n",
    "\n",
    "    group_index_to_id = {value : key for key, value in outfit_group_to_index.items()}\n",
    "    df[\"group_recommendations\"] = df.apply(lambda x: evaluate_model(model_group, csr_group, x[\"user_index\"], n=100), axis=1)\n",
    "    df[\"group_recommendations\"] = df.apply(lambda x: get_outfit_id_from_index(x[\"group_recommendations\"], group_index_to_id), axis=1)\n",
    "\n",
    "    HIT_RATE_COLUMNS = [\"id_hit_rate_at_100\", \"id_hit_rate_at_10\", \"group_hit_rate_at_100\", \"group_hit_rate_at_10\"]\n",
    "    df[\"id_hit_rate_at_100\"] = df.apply(lambda x: evaluate_hit_rate_at_n(x[\"test_outfit_id\"], x[\"ind_recommendations\"], n=100), axis=1)\n",
    "    df[\"id_hit_rate_at_10\"] = df.apply(lambda x: evaluate_hit_rate_at_n(x[\"test_outfit_id\"], x[\"ind_recommendations\"], n=10), axis=1)\n",
    "    df[\"group_hit_rate_at_100\"] = df.apply(lambda x: evaluate_hit_rate_at_n(x[\"test_group\"], x[\"group_recommendations\"], n=100), axis=1)\n",
    "    df[\"group_hit_rate_at_10\"] = df.apply(lambda x: evaluate_hit_rate_at_n(x[\"test_group\"], x[\"group_recommendations\"], n=10), axis=1)\n",
    "\n",
    "    print(f\"Run name: {run_name} Factors: {factors}, Regularization: {regularization}\")\n",
    "    display(df[HIT_RATE_COLUMNS].mean())\n",
    "    print(\"=\"*20)\n",
    "\n",
    "    result_dict = {column: df[column].mean() for column in HIT_RATE_COLUMNS}\n",
    "\n",
    "    return df, (factors, regularization, df[\"group_hit_rate_at_10\"].mean(), df[\"id_hit_rate_at_10\"].mean(), run_name), result_dict\n",
    "\n",
    "\n",
    "TEST_FACTORS = [128]\n",
    "TEST_REGULARIZATIONS = [0.01]\n",
    "TEST_LEARNING_RATES = [0.01]\n",
    "#run_dataframes = [user_splits_df]\n",
    "run_dataframes = [(user_splits_df, \"All Outfits\"), (user_splits_unique_df, \"Unique Outfit\")]\n",
    "\n",
    "test_permutations = list(product(TEST_FACTORS, TEST_REGULARIZATIONS, TEST_LEARNING_RATES))\n",
    "test_permutations = [(t_factors, t_reg, t_lr, run_df) for t_factors, t_reg, t_lr, run_df in product(TEST_FACTORS, TEST_REGULARIZATIONS, TEST_LEARNING_RATES, run_dataframes)]\n",
    "\n",
    "group_hr_10_means, result_dicts = [], []\n",
    "for test_factors, test_regularization, test_learning_rate, (df, run_name) in test_permutations:\n",
    "    df, result, result_dict = run_lmf_training_loop(df, test_factors, test_regularization, test_learning_rate, run_name=run_name)\n",
    "    result_dicts.append(result_dict)\n",
    "    group_hr_10_means.append(result)"
   ]
  },
  {
   "cell_type": "code",
   "execution_count": 29,
   "metadata": {},
   "outputs": [
    {
     "name": "stdout",
     "output_type": "stream",
     "text": [
      "BPR Ind: & 0.0014 & 0.0104 & 0.0014 & 0.0077 \\\\\n",
      "BPR Groupd: & 0.0005 & 0.0077 & 0.0009 & 0.0104 \\\\\\hline\n"
     ]
    }
   ],
   "source": [
    "def format_dicts_into_latex(all_dict, ind_dict, precision=4):\n",
    "    first_row = f\"LMF Ind: & {all_dict['id_hit_rate_at_10']:.{precision}f} & {all_dict['id_hit_rate_at_100']:.{precision}f} & {ind_dict['id_hit_rate_at_10']:.{precision}f} & {ind_dict['id_hit_rate_at_100']:.{precision}f} \\\\\\\\\"\n",
    "    second_row = f\"LMF Groupd: & {all_dict['group_hit_rate_at_10']:.{precision}f} & {all_dict['group_hit_rate_at_100']:.{precision}f} & {ind_dict['group_hit_rate_at_10']:.{precision}f} & {ind_dict['group_hit_rate_at_100']:.{precision}f} \\\\\\\\\\\\hline\"\n",
    "    print(first_row)\n",
    "    print(second_row)\n",
    "\n",
    "all_dict, ind_dict = result_dicts\n",
    "format_dicts_into_latex(all_dict, ind_dict, precision=4)"
   ]
  }
 ],
 "metadata": {
  "kernelspec": {
   "display_name": "baseline-env",
   "language": "python",
   "name": "python3"
  },
  "language_info": {
   "codemirror_mode": {
    "name": "ipython",
    "version": 3
   },
   "file_extension": ".py",
   "mimetype": "text/x-python",
   "name": "python",
   "nbconvert_exporter": "python",
   "pygments_lexer": "ipython3",
   "version": "3.10.13"
  }
 },
 "nbformat": 4,
 "nbformat_minor": 2
}
